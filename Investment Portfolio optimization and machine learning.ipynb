{
 "cells": [
  {
   "cell_type": "markdown",
   "id": "1737dc0b",
   "metadata": {},
   "source": [
    "#### importing the necessary library \"gurobipy\" and importing GRB class from gurobipy"
   ]
  },
  {
   "cell_type": "code",
   "execution_count": 1,
   "id": "0c9c2e39",
   "metadata": {},
   "outputs": [],
   "source": [
    "import gurobipy as g \n",
    "from gurobipy import GRB "
   ]
  },
  {
   "cell_type": "markdown",
   "id": "a8f001bb",
   "metadata": {},
   "source": [
    "##### creating an empty model"
   ]
  },
  {
   "cell_type": "code",
   "execution_count": 2,
   "id": "eef3deaf",
   "metadata": {},
   "outputs": [
    {
     "name": "stdout",
     "output_type": "stream",
     "text": [
      "Restricted license - for non-production use only - expires 2024-10-28\n"
     ]
    }
   ],
   "source": [
    "model = g.Model() "
   ]
  },
  {
   "cell_type": "markdown",
   "id": "e61a1f1e",
   "metadata": {},
   "source": [
    "#### creating variables 'stock' , 'buy' with the 50 indexes, 'sell' with 50 indexes, 'bond' "
   ]
  },
  {
   "cell_type": "code",
   "execution_count": 3,
   "id": "9fc39656",
   "metadata": {},
   "outputs": [],
   "source": [
    "stock= model.addVar(lb=0, name = 'stock')\n",
    "buy = model.addVar(lb=0, ub=50, name ='buy') \n",
    "sell = model.addVar(lb=0, ub=50, name = 'sell')\n",
    "bond = model.addVar(lb=0, name='bond')"
   ]
  },
  {
   "cell_type": "markdown",
   "id": "b5feb806",
   "metadata": {},
   "source": [
    "#### setting object to find the optimum results"
   ]
  },
  {
   "cell_type": "code",
   "execution_count": 4,
   "id": "33eed1b4",
   "metadata": {},
   "outputs": [],
   "source": [
    "model.setObjective(20*stock + sell*1000 - buy*1000 - 90*bond,\n",
    "                   sense = GRB.MAXIMIZE)"
   ]
  },
  {
   "cell_type": "markdown",
   "id": "2aae532a",
   "metadata": {},
   "source": [
    "#### Adding constraints"
   ]
  },
  {
   "cell_type": "code",
   "execution_count": 5,
   "id": "721cedee",
   "metadata": {},
   "outputs": [
    {
     "data": {
      "text/plain": [
       "<gurobi.Constr *Awaiting Model Update*>"
      ]
     },
     "execution_count": 5,
     "metadata": {},
     "output_type": "execute_result"
    }
   ],
   "source": [
    "model.addConstr(stock + buy*15 - sell*15 >= bond + 100, name='constraint_1')\n",
    "model.addConstr(stock + buy*15 - sell*15 >= 0, name='constraint_2')\n",
    "model.addConstr(stock + buy*15 - sell*15 <= bond + 100, name='constraint_3')\n",
    "model.addConstr(buy + sell <= 50, name='constraint_4')"
   ]
  },
  {
   "cell_type": "markdown",
   "id": "21965081",
   "metadata": {},
   "source": [
    "#### optimizing the model"
   ]
  },
  {
   "cell_type": "code",
   "execution_count": 6,
   "id": "64d6dc83",
   "metadata": {},
   "outputs": [
    {
     "name": "stdout",
     "output_type": "stream",
     "text": [
      "Gurobi Optimizer version 10.0.1 build v10.0.1rc0 (win64)\n",
      "\n",
      "CPU model: Intel(R) Core(TM) i5-10300H CPU @ 2.50GHz, instruction set [SSE2|AVX|AVX2]\n",
      "Thread count: 4 physical cores, 8 logical processors, using up to 8 threads\n",
      "\n",
      "Optimize a model with 4 rows, 4 columns and 13 nonzeros\n",
      "Model fingerprint: 0xa740dde6\n",
      "Coefficient statistics:\n",
      "  Matrix range     [1e+00, 2e+01]\n",
      "  Objective range  [2e+01, 1e+03]\n",
      "  Bounds range     [5e+01, 5e+01]\n",
      "  RHS range        [5e+01, 1e+02]\n",
      "Presolve removed 1 rows and 0 columns\n",
      "Presolve time: 0.01s\n",
      "Presolved: 3 rows, 4 columns, 9 nonzeros\n",
      "\n",
      "Iteration    Objective       Primal Inf.    Dual Inf.      Time\n",
      "       0    3.2000000e+32   1.000000e+30   3.200000e+02      0s\n",
      "       1    6.7000000e+04   0.000000e+00   0.000000e+00      0s\n",
      "\n",
      "Solved in 1 iterations and 0.01 seconds (0.00 work units)\n",
      "Optimal objective  6.700000000e+04\n"
     ]
    }
   ],
   "source": [
    "model.optimize()"
   ]
  },
  {
   "cell_type": "markdown",
   "id": "d1227c07",
   "metadata": {},
   "source": [
    "#### these lines printing the optimal results\n",
    "like how much stocks invester sould purchase\n",
    "how much call options invester should buy\n",
    "how much call options invester should sell\n",
    "and how much bonds invester should purchase\n",
    "and the last line prints optimal profit"
   ]
  },
  {
   "cell_type": "code",
   "execution_count": 7,
   "id": "470cfeb5",
   "metadata": {},
   "outputs": [
    {
     "name": "stdout",
     "output_type": "stream",
     "text": [
      "Stock: 850.0\n",
      "Call option buy: 0.0\n",
      "Call option sell: 50.0\n",
      "Bond: 0.0\n",
      "Optimal profit: 67000.0\n"
     ]
    }
   ],
   "source": [
    "print(f'Stock: {stock.x}')\n",
    "print(f'Call option buy: {buy.x}')\n",
    "print(f'Call option sell: {sell.x}')\n",
    "print(f'Bond: {bond.x}')\n",
    "print(f'Optimal profit: {model.objVal}')"
   ]
  },
  {
   "cell_type": "markdown",
   "id": "3f62d5a5",
   "metadata": {},
   "source": [
    "#### adding another constraints where minimum profit should be 2000"
   ]
  },
  {
   "cell_type": "code",
   "execution_count": 8,
   "id": "cdcf26d6",
   "metadata": {},
   "outputs": [
    {
     "data": {
      "text/plain": [
       "<gurobi.Constr *Awaiting Model Update*>"
      ]
     },
     "execution_count": 8,
     "metadata": {},
     "output_type": "execute_result"
    }
   ],
   "source": [
    "model.addConstr(stock + sell*40 - buy*12 >= 2000, name='constraint_5')\n"
   ]
  },
  {
   "cell_type": "markdown",
   "id": "ea7053f7",
   "metadata": {},
   "source": [
    "#### then again optimizing the model because we added another constraint"
   ]
  },
  {
   "cell_type": "code",
   "execution_count": 9,
   "id": "e0d60991",
   "metadata": {},
   "outputs": [
    {
     "name": "stdout",
     "output_type": "stream",
     "text": [
      "Gurobi Optimizer version 10.0.1 build v10.0.1rc0 (win64)\n",
      "\n",
      "CPU model: Intel(R) Core(TM) i5-10300H CPU @ 2.50GHz, instruction set [SSE2|AVX|AVX2]\n",
      "Thread count: 4 physical cores, 8 logical processors, using up to 8 threads\n",
      "\n",
      "Optimize a model with 5 rows, 4 columns and 16 nonzeros\n",
      "Coefficient statistics:\n",
      "  Matrix range     [1e+00, 4e+01]\n",
      "  Objective range  [2e+01, 1e+03]\n",
      "  Bounds range     [5e+01, 5e+01]\n",
      "  RHS range        [5e+01, 2e+03]\n",
      "Iteration    Objective       Primal Inf.    Dual Inf.      Time\n",
      "       0    6.7000000e+04   0.000000e+00   0.000000e+00      0s\n",
      "\n",
      "Solved in 0 iterations and 0.00 seconds (0.00 work units)\n",
      "Optimal objective  6.700000000e+04\n"
     ]
    }
   ],
   "source": [
    "model.optimize()"
   ]
  },
  {
   "cell_type": "markdown",
   "id": "b95283bb",
   "metadata": {},
   "source": [
    "#### checking the condition if the model status is optimal and returning the founded solution"
   ]
  },
  {
   "cell_type": "code",
   "execution_count": 10,
   "id": "03829d96",
   "metadata": {},
   "outputs": [
    {
     "name": "stdout",
     "output_type": "stream",
     "text": [
      "the optimal solution is founded\n",
      "Stock: 850.0\n",
      "Call option buy: 0.0\n",
      "Call option sell: 50.0\n",
      "Bond: 0.0\n",
      "Optimal profit: 67000.0\n"
     ]
    }
   ],
   "source": [
    "if model.status==g.GRB.OPTIMAL:\n",
    "    print(\"the optimal solution is founded\")\n",
    "    print(f'Stock: {stock.x}')\n",
    "    print(f'Call option buy: {buy.x}')\n",
    "    print(f'Call option sell: {sell.x}')\n",
    "    print(f'Bond: {bond.x}')\n",
    "    print(f'Optimal profit: {model.objVal}')\n",
    "\n",
    "else:\n",
    "    print(\"The optimal solution can not be founded\")"
   ]
  }
 ],
 "metadata": {
  "kernelspec": {
   "display_name": "Python 3 (ipykernel)",
   "language": "python",
   "name": "python3"
  },
  "language_info": {
   "codemirror_mode": {
    "name": "ipython",
    "version": 3
   },
   "file_extension": ".py",
   "mimetype": "text/x-python",
   "name": "python",
   "nbconvert_exporter": "python",
   "pygments_lexer": "ipython3",
   "version": "3.11.3"
  }
 },
 "nbformat": 4,
 "nbformat_minor": 5
}
