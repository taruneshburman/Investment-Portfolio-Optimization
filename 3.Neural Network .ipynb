{
 "cells": [
  {
   "cell_type": "markdown",
   "id": "f153e8e3",
   "metadata": {},
   "source": [
    "#### importing all the necessary libraies"
   ]
  },
  {
   "cell_type": "code",
   "execution_count": 1,
   "id": "25034d13",
   "metadata": {},
   "outputs": [],
   "source": [
    "import pandas as pd\n",
    "import numpy as np\n",
    "from sklearn.neural_network import MLPClassifier\n",
    "from sklearn.preprocessing import StandardScaler\n",
    "from sklearn.metrics import accuracy_score, precision_score, recall_score, f1_score\n",
    "from sklearn.model_selection import train_test_split"
   ]
  },
  {
   "cell_type": "code",
   "execution_count": 2,
   "id": "d109d8ce",
   "metadata": {},
   "outputs": [],
   "source": [
    "#retrivint the data from csv file\n",
    "dff= pd.read_csv(\"MLF_GP1_CreditScore.csv\")"
   ]
  },
  {
   "cell_type": "code",
   "execution_count": 3,
   "id": "f729100c",
   "metadata": {},
   "outputs": [
    {
     "name": "stdout",
     "output_type": "stream",
     "text": [
      "      Sales/Revenues  Gross Margin    EBITDA  EBITDA Margin   \n",
      "0          -0.005496      0.030763  0.018885       0.024515  \\\n",
      "1          -0.005496      0.030763  0.088716       0.094733   \n",
      "2          -0.007045      0.023159  0.088716       0.096440   \n",
      "3          -0.009396      0.028400  0.088716       0.099046   \n",
      "4          -0.009009      0.027714  0.088716       0.098611   \n",
      "...              ...           ...       ...            ...   \n",
      "1695       -0.099327     -0.010702 -0.127046      -0.030785   \n",
      "1696       -0.116919     -0.009799 -0.155183      -0.043333   \n",
      "1697       -0.099676      0.067595 -0.170022      -0.078134   \n",
      "1698       -0.088853      0.007820 -0.122645      -0.037088   \n",
      "1699       -0.084739     -0.021961 -0.159290      -0.081442   \n",
      "\n",
      "      Net Income Before Extras  Total Debt  Net Debt   LT Debt   ST Debt   \n",
      "0                     0.146849   -0.029710 -0.019296 -0.042648  0.049875  \\\n",
      "1                     0.146849   -0.029710 -0.019296 -0.042648  0.049875   \n",
      "2                     0.108590    0.039410  0.034268  0.009059  0.250371   \n",
      "3                     0.146137    0.030071  0.036938 -0.016964  0.356994   \n",
      "4                     0.123500    0.024224  0.034445 -0.034132  0.461894   \n",
      "...                        ...         ...       ...       ...       ...   \n",
      "1695                 -4.349569    0.124830  0.146400  0.008407  0.364676   \n",
      "1696                 -2.937747    0.157873  0.066243  0.084104  0.309846   \n",
      "1697                 -1.960264    0.023226 -0.201398  0.024856  0.020078   \n",
      "1698                 -2.066509    0.067495 -0.011377  0.289219 -0.171802   \n",
      "1699                 -1.953166   -0.043481 -0.285966  0.045902 -0.179549   \n",
      "\n",
      "          Cash  ...  Interest Coverage  Total Liquidity  Current Liquidity   \n",
      "0    -0.133716  ...           0.136748         0.392143          -0.184887  \\\n",
      "1    -0.133716  ...           0.214657         0.392143          -0.184887   \n",
      "2     0.101315  ...           0.205290         0.483257          -0.017877   \n",
      "3    -0.052606  ...           0.232991         0.996955          -0.122017   \n",
      "4    -0.090869  ...           0.172906         1.711426          -0.161561   \n",
      "...        ...  ...                ...              ...                ...   \n",
      "1695 -0.028333  ...          -0.190974         0.603271          -0.150779   \n",
      "1696  0.808505  ...          -0.246259         0.007110           0.604043   \n",
      "1697  1.352542  ...          -0.266848        -0.959809           1.227363   \n",
      "1698  0.671224  ...          -0.226685        -0.438389           0.865331   \n",
      "1699  1.987960  ...          -0.219651        -0.977050           2.167547   \n",
      "\n",
      "      Current Liabilities  EPS Before Extras        PE       ROA       ROE   \n",
      "0                0.062781           0.148305  0.100409  0.163266  0.102521  \\\n",
      "1                0.062781           0.148305 -0.089598  0.163266  0.102521   \n",
      "2                0.121357           0.110656 -0.045142  0.105711  0.103378   \n",
      "3                0.079051           0.151639 -0.008231  0.162421  0.132295   \n",
      "4                0.084319           0.130435  0.015528  0.156427  0.225144   \n",
      "...                   ...                ...       ...       ...       ...   \n",
      "1695             0.144187          -4.408257 -1.339781 -4.271318 -5.168673   \n",
      "1696             0.127468          -2.977064 -1.695900 -2.868086 -3.429429   \n",
      "1697             0.056198          -1.955285 -1.919739 -1.876336 -1.940995   \n",
      "1698            -0.104059          -2.059347 -1.462429 -2.027254 -2.059961   \n",
      "1699            -0.056695          -1.948856 -1.918602 -1.952314 -1.758980   \n",
      "\n",
      "      InvGrd  Rating  \n",
      "0          1      A1  \n",
      "1          1      A1  \n",
      "2          1      A1  \n",
      "3          1      A1  \n",
      "4          1      A1  \n",
      "...      ...     ...  \n",
      "1695       0    Caa1  \n",
      "1696       0    Caa1  \n",
      "1697       0    Caa1  \n",
      "1698       0    Caa1  \n",
      "1699       0    Caa1  \n",
      "\n",
      "[1700 rows x 28 columns]\n"
     ]
    }
   ],
   "source": [
    "#printing the dataset\n",
    "print(dff)"
   ]
  },
  {
   "cell_type": "code",
   "execution_count": 4,
   "id": "d96e951c",
   "metadata": {},
   "outputs": [
    {
     "data": {
      "text/html": [
       "<div>\n",
       "<style scoped>\n",
       "    .dataframe tbody tr th:only-of-type {\n",
       "        vertical-align: middle;\n",
       "    }\n",
       "\n",
       "    .dataframe tbody tr th {\n",
       "        vertical-align: top;\n",
       "    }\n",
       "\n",
       "    .dataframe thead th {\n",
       "        text-align: right;\n",
       "    }\n",
       "</style>\n",
       "<table border=\"1\" class=\"dataframe\">\n",
       "  <thead>\n",
       "    <tr style=\"text-align: right;\">\n",
       "      <th></th>\n",
       "      <th>Sales/Revenues</th>\n",
       "      <th>Gross Margin</th>\n",
       "      <th>EBITDA</th>\n",
       "      <th>EBITDA Margin</th>\n",
       "      <th>Net Income Before Extras</th>\n",
       "      <th>Total Debt</th>\n",
       "      <th>Net Debt</th>\n",
       "      <th>LT Debt</th>\n",
       "      <th>ST Debt</th>\n",
       "      <th>Cash</th>\n",
       "      <th>...</th>\n",
       "      <th>Interest Coverage</th>\n",
       "      <th>Total Liquidity</th>\n",
       "      <th>Current Liquidity</th>\n",
       "      <th>Current Liabilities</th>\n",
       "      <th>EPS Before Extras</th>\n",
       "      <th>PE</th>\n",
       "      <th>ROA</th>\n",
       "      <th>ROE</th>\n",
       "      <th>InvGrd</th>\n",
       "      <th>Rating</th>\n",
       "    </tr>\n",
       "  </thead>\n",
       "  <tbody>\n",
       "    <tr>\n",
       "      <th>0</th>\n",
       "      <td>-0.005496</td>\n",
       "      <td>0.030763</td>\n",
       "      <td>0.018885</td>\n",
       "      <td>0.024515</td>\n",
       "      <td>0.146849</td>\n",
       "      <td>-0.029710</td>\n",
       "      <td>-0.019296</td>\n",
       "      <td>-0.042648</td>\n",
       "      <td>0.049875</td>\n",
       "      <td>-0.133716</td>\n",
       "      <td>...</td>\n",
       "      <td>0.136748</td>\n",
       "      <td>0.392143</td>\n",
       "      <td>-0.184887</td>\n",
       "      <td>0.062781</td>\n",
       "      <td>0.148305</td>\n",
       "      <td>0.100409</td>\n",
       "      <td>0.163266</td>\n",
       "      <td>0.102521</td>\n",
       "      <td>1</td>\n",
       "      <td>A1</td>\n",
       "    </tr>\n",
       "    <tr>\n",
       "      <th>1</th>\n",
       "      <td>-0.005496</td>\n",
       "      <td>0.030763</td>\n",
       "      <td>0.088716</td>\n",
       "      <td>0.094733</td>\n",
       "      <td>0.146849</td>\n",
       "      <td>-0.029710</td>\n",
       "      <td>-0.019296</td>\n",
       "      <td>-0.042648</td>\n",
       "      <td>0.049875</td>\n",
       "      <td>-0.133716</td>\n",
       "      <td>...</td>\n",
       "      <td>0.214657</td>\n",
       "      <td>0.392143</td>\n",
       "      <td>-0.184887</td>\n",
       "      <td>0.062781</td>\n",
       "      <td>0.148305</td>\n",
       "      <td>-0.089598</td>\n",
       "      <td>0.163266</td>\n",
       "      <td>0.102521</td>\n",
       "      <td>1</td>\n",
       "      <td>A1</td>\n",
       "    </tr>\n",
       "    <tr>\n",
       "      <th>2</th>\n",
       "      <td>-0.007045</td>\n",
       "      <td>0.023159</td>\n",
       "      <td>0.088716</td>\n",
       "      <td>0.096440</td>\n",
       "      <td>0.108590</td>\n",
       "      <td>0.039410</td>\n",
       "      <td>0.034268</td>\n",
       "      <td>0.009059</td>\n",
       "      <td>0.250371</td>\n",
       "      <td>0.101315</td>\n",
       "      <td>...</td>\n",
       "      <td>0.205290</td>\n",
       "      <td>0.483257</td>\n",
       "      <td>-0.017877</td>\n",
       "      <td>0.121357</td>\n",
       "      <td>0.110656</td>\n",
       "      <td>-0.045142</td>\n",
       "      <td>0.105711</td>\n",
       "      <td>0.103378</td>\n",
       "      <td>1</td>\n",
       "      <td>A1</td>\n",
       "    </tr>\n",
       "    <tr>\n",
       "      <th>3</th>\n",
       "      <td>-0.009396</td>\n",
       "      <td>0.028400</td>\n",
       "      <td>0.088716</td>\n",
       "      <td>0.099046</td>\n",
       "      <td>0.146137</td>\n",
       "      <td>0.030071</td>\n",
       "      <td>0.036938</td>\n",
       "      <td>-0.016964</td>\n",
       "      <td>0.356994</td>\n",
       "      <td>-0.052606</td>\n",
       "      <td>...</td>\n",
       "      <td>0.232991</td>\n",
       "      <td>0.996955</td>\n",
       "      <td>-0.122017</td>\n",
       "      <td>0.079051</td>\n",
       "      <td>0.151639</td>\n",
       "      <td>-0.008231</td>\n",
       "      <td>0.162421</td>\n",
       "      <td>0.132295</td>\n",
       "      <td>1</td>\n",
       "      <td>A1</td>\n",
       "    </tr>\n",
       "    <tr>\n",
       "      <th>4</th>\n",
       "      <td>-0.009009</td>\n",
       "      <td>0.027714</td>\n",
       "      <td>0.088716</td>\n",
       "      <td>0.098611</td>\n",
       "      <td>0.123500</td>\n",
       "      <td>0.024224</td>\n",
       "      <td>0.034445</td>\n",
       "      <td>-0.034132</td>\n",
       "      <td>0.461894</td>\n",
       "      <td>-0.090869</td>\n",
       "      <td>...</td>\n",
       "      <td>0.172906</td>\n",
       "      <td>1.711426</td>\n",
       "      <td>-0.161561</td>\n",
       "      <td>0.084319</td>\n",
       "      <td>0.130435</td>\n",
       "      <td>0.015528</td>\n",
       "      <td>0.156427</td>\n",
       "      <td>0.225144</td>\n",
       "      <td>1</td>\n",
       "      <td>A1</td>\n",
       "    </tr>\n",
       "  </tbody>\n",
       "</table>\n",
       "<p>5 rows × 28 columns</p>\n",
       "</div>"
      ],
      "text/plain": [
       "   Sales/Revenues  Gross Margin    EBITDA  EBITDA Margin   \n",
       "0       -0.005496      0.030763  0.018885       0.024515  \\\n",
       "1       -0.005496      0.030763  0.088716       0.094733   \n",
       "2       -0.007045      0.023159  0.088716       0.096440   \n",
       "3       -0.009396      0.028400  0.088716       0.099046   \n",
       "4       -0.009009      0.027714  0.088716       0.098611   \n",
       "\n",
       "   Net Income Before Extras  Total Debt  Net Debt   LT Debt   ST Debt   \n",
       "0                  0.146849   -0.029710 -0.019296 -0.042648  0.049875  \\\n",
       "1                  0.146849   -0.029710 -0.019296 -0.042648  0.049875   \n",
       "2                  0.108590    0.039410  0.034268  0.009059  0.250371   \n",
       "3                  0.146137    0.030071  0.036938 -0.016964  0.356994   \n",
       "4                  0.123500    0.024224  0.034445 -0.034132  0.461894   \n",
       "\n",
       "       Cash  ...  Interest Coverage  Total Liquidity  Current Liquidity   \n",
       "0 -0.133716  ...           0.136748         0.392143          -0.184887  \\\n",
       "1 -0.133716  ...           0.214657         0.392143          -0.184887   \n",
       "2  0.101315  ...           0.205290         0.483257          -0.017877   \n",
       "3 -0.052606  ...           0.232991         0.996955          -0.122017   \n",
       "4 -0.090869  ...           0.172906         1.711426          -0.161561   \n",
       "\n",
       "   Current Liabilities  EPS Before Extras        PE       ROA       ROE   \n",
       "0             0.062781           0.148305  0.100409  0.163266  0.102521  \\\n",
       "1             0.062781           0.148305 -0.089598  0.163266  0.102521   \n",
       "2             0.121357           0.110656 -0.045142  0.105711  0.103378   \n",
       "3             0.079051           0.151639 -0.008231  0.162421  0.132295   \n",
       "4             0.084319           0.130435  0.015528  0.156427  0.225144   \n",
       "\n",
       "   InvGrd  Rating  \n",
       "0       1      A1  \n",
       "1       1      A1  \n",
       "2       1      A1  \n",
       "3       1      A1  \n",
       "4       1      A1  \n",
       "\n",
       "[5 rows x 28 columns]"
      ]
     },
     "execution_count": 4,
     "metadata": {},
     "output_type": "execute_result"
    }
   ],
   "source": [
    "#showing top 5 rows\n",
    "dff.head()"
   ]
  },
  {
   "cell_type": "code",
   "execution_count": 5,
   "id": "750dcb36",
   "metadata": {},
   "outputs": [],
   "source": [
    "#slicing the dataframe\n",
    "A= dff.iloc[:, :-2]\n",
    "B = dff.iloc[:, -2]"
   ]
  },
  {
   "cell_type": "code",
   "execution_count": 6,
   "id": "affa6eac",
   "metadata": {},
   "outputs": [],
   "source": [
    "#spliting the data into 80:20 ratio\n",
    "A_train, A_test, B_train, B_test = train_test_split(A,B, test_size=0.2, random_state=42)\n",
    "B_train = np.ravel(B_train)\n",
    "B_test = np.ravel(B_test)"
   ]
  },
  {
   "cell_type": "code",
   "execution_count": 7,
   "id": "fb39f923",
   "metadata": {},
   "outputs": [],
   "source": [
    "#Scaling the data\n",
    "scaler = StandardScaler()\n",
    "A_train_std = scaler.fit_transform(A_train)\n",
    "A_test_std = scaler.transform(A_test)"
   ]
  },
  {
   "cell_type": "code",
   "execution_count": 8,
   "id": "7cfe7366",
   "metadata": {},
   "outputs": [],
   "source": [
    "#setting up the Multi Layer Perceptron classifier\n",
    "mlp = MLPClassifier(hidden_layer_sizes = (100,50), activation='relu',  solver='adam', alpha=0.0001, \n",
    "                    batch_size='auto', learning_rate='constant', learning_rate_init=0.001, max_iter=200, \n",
    "                    shuffle=True, random_state=42, tol=0.0001, verbose=False, early_stopping=True)"
   ]
  },
  {
   "cell_type": "code",
   "execution_count": 9,
   "id": "a268becb",
   "metadata": {},
   "outputs": [
    {
     "data": {
      "text/html": [
       "<style>#sk-container-id-1 {color: black;background-color: white;}#sk-container-id-1 pre{padding: 0;}#sk-container-id-1 div.sk-toggleable {background-color: white;}#sk-container-id-1 label.sk-toggleable__label {cursor: pointer;display: block;width: 100%;margin-bottom: 0;padding: 0.3em;box-sizing: border-box;text-align: center;}#sk-container-id-1 label.sk-toggleable__label-arrow:before {content: \"▸\";float: left;margin-right: 0.25em;color: #696969;}#sk-container-id-1 label.sk-toggleable__label-arrow:hover:before {color: black;}#sk-container-id-1 div.sk-estimator:hover label.sk-toggleable__label-arrow:before {color: black;}#sk-container-id-1 div.sk-toggleable__content {max-height: 0;max-width: 0;overflow: hidden;text-align: left;background-color: #f0f8ff;}#sk-container-id-1 div.sk-toggleable__content pre {margin: 0.2em;color: black;border-radius: 0.25em;background-color: #f0f8ff;}#sk-container-id-1 input.sk-toggleable__control:checked~div.sk-toggleable__content {max-height: 200px;max-width: 100%;overflow: auto;}#sk-container-id-1 input.sk-toggleable__control:checked~label.sk-toggleable__label-arrow:before {content: \"▾\";}#sk-container-id-1 div.sk-estimator input.sk-toggleable__control:checked~label.sk-toggleable__label {background-color: #d4ebff;}#sk-container-id-1 div.sk-label input.sk-toggleable__control:checked~label.sk-toggleable__label {background-color: #d4ebff;}#sk-container-id-1 input.sk-hidden--visually {border: 0;clip: rect(1px 1px 1px 1px);clip: rect(1px, 1px, 1px, 1px);height: 1px;margin: -1px;overflow: hidden;padding: 0;position: absolute;width: 1px;}#sk-container-id-1 div.sk-estimator {font-family: monospace;background-color: #f0f8ff;border: 1px dotted black;border-radius: 0.25em;box-sizing: border-box;margin-bottom: 0.5em;}#sk-container-id-1 div.sk-estimator:hover {background-color: #d4ebff;}#sk-container-id-1 div.sk-parallel-item::after {content: \"\";width: 100%;border-bottom: 1px solid gray;flex-grow: 1;}#sk-container-id-1 div.sk-label:hover label.sk-toggleable__label {background-color: #d4ebff;}#sk-container-id-1 div.sk-serial::before {content: \"\";position: absolute;border-left: 1px solid gray;box-sizing: border-box;top: 0;bottom: 0;left: 50%;z-index: 0;}#sk-container-id-1 div.sk-serial {display: flex;flex-direction: column;align-items: center;background-color: white;padding-right: 0.2em;padding-left: 0.2em;position: relative;}#sk-container-id-1 div.sk-item {position: relative;z-index: 1;}#sk-container-id-1 div.sk-parallel {display: flex;align-items: stretch;justify-content: center;background-color: white;position: relative;}#sk-container-id-1 div.sk-item::before, #sk-container-id-1 div.sk-parallel-item::before {content: \"\";position: absolute;border-left: 1px solid gray;box-sizing: border-box;top: 0;bottom: 0;left: 50%;z-index: -1;}#sk-container-id-1 div.sk-parallel-item {display: flex;flex-direction: column;z-index: 1;position: relative;background-color: white;}#sk-container-id-1 div.sk-parallel-item:first-child::after {align-self: flex-end;width: 50%;}#sk-container-id-1 div.sk-parallel-item:last-child::after {align-self: flex-start;width: 50%;}#sk-container-id-1 div.sk-parallel-item:only-child::after {width: 0;}#sk-container-id-1 div.sk-dashed-wrapped {border: 1px dashed gray;margin: 0 0.4em 0.5em 0.4em;box-sizing: border-box;padding-bottom: 0.4em;background-color: white;}#sk-container-id-1 div.sk-label label {font-family: monospace;font-weight: bold;display: inline-block;line-height: 1.2em;}#sk-container-id-1 div.sk-label-container {text-align: center;}#sk-container-id-1 div.sk-container {/* jupyter's `normalize.less` sets `[hidden] { display: none; }` but bootstrap.min.css set `[hidden] { display: none !important; }` so we also need the `!important` here to be able to override the default hidden behavior on the sphinx rendered scikit-learn.org. See: https://github.com/scikit-learn/scikit-learn/issues/21755 */display: inline-block !important;position: relative;}#sk-container-id-1 div.sk-text-repr-fallback {display: none;}</style><div id=\"sk-container-id-1\" class=\"sk-top-container\"><div class=\"sk-text-repr-fallback\"><pre>MLPClassifier(early_stopping=True, hidden_layer_sizes=(100, 50),\n",
       "              random_state=42)</pre><b>In a Jupyter environment, please rerun this cell to show the HTML representation or trust the notebook. <br />On GitHub, the HTML representation is unable to render, please try loading this page with nbviewer.org.</b></div><div class=\"sk-container\" hidden><div class=\"sk-item\"><div class=\"sk-estimator sk-toggleable\"><input class=\"sk-toggleable__control sk-hidden--visually\" id=\"sk-estimator-id-1\" type=\"checkbox\" checked><label for=\"sk-estimator-id-1\" class=\"sk-toggleable__label sk-toggleable__label-arrow\">MLPClassifier</label><div class=\"sk-toggleable__content\"><pre>MLPClassifier(early_stopping=True, hidden_layer_sizes=(100, 50),\n",
       "              random_state=42)</pre></div></div></div></div></div>"
      ],
      "text/plain": [
       "MLPClassifier(early_stopping=True, hidden_layer_sizes=(100, 50),\n",
       "              random_state=42)"
      ]
     },
     "execution_count": 9,
     "metadata": {},
     "output_type": "execute_result"
    }
   ],
   "source": [
    "#training the MLP\n",
    "mlp.fit(A_train_std, B_train)"
   ]
  },
  {
   "cell_type": "code",
   "execution_count": 10,
   "id": "41addbec",
   "metadata": {},
   "outputs": [],
   "source": [
    "#predicting the results of the test set\n",
    "B_pred = mlp.predict(A_test_std)"
   ]
  },
  {
   "cell_type": "code",
   "execution_count": 11,
   "id": "636df25f",
   "metadata": {},
   "outputs": [],
   "source": [
    "#evaluating the performance of the classifier on the test set\n",
    "accuracy = accuracy_score(B_test,B_pred)\n",
    "precision = precision_score(B_test, B_pred, average='weighted')\n",
    "recall = recall_score(B_test, B_pred, average= 'weighted')\n",
    "f1 = f1_score(B_test, B_pred, average='weighted')"
   ]
  },
  {
   "cell_type": "code",
   "execution_count": 12,
   "id": "44640535",
   "metadata": {
    "scrolled": true
   },
   "outputs": [
    {
     "name": "stdout",
     "output_type": "stream",
     "text": [
      "Accuracy: 0.7529411764705882, precision: 0.7010960906101571, Recall: 0.7529411764705882, f1_score: 0.6871158151842051\n"
     ]
    }
   ],
   "source": [
    "print(f\"Accuracy: {accuracy}, precision: {precision}, Recall: {recall}, f1_score: {f1}\".format(accuracy, precision, recall, f1))"
   ]
  },
  {
   "cell_type": "code",
   "execution_count": null,
   "id": "3bee3ca3",
   "metadata": {},
   "outputs": [],
   "source": []
  }
 ],
 "metadata": {
  "kernelspec": {
   "display_name": "Python 3 (ipykernel)",
   "language": "python",
   "name": "python3"
  },
  "language_info": {
   "codemirror_mode": {
    "name": "ipython",
    "version": 3
   },
   "file_extension": ".py",
   "mimetype": "text/x-python",
   "name": "python",
   "nbconvert_exporter": "python",
   "pygments_lexer": "ipython3",
   "version": "3.11.3"
  }
 },
 "nbformat": 4,
 "nbformat_minor": 5
}
